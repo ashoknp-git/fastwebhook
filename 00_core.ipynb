{
 "cells": [
  {
   "cell_type": "code",
   "execution_count": 1,
   "metadata": {},
   "outputs": [],
   "source": [
    "# default_exp core"
   ]
  },
  {
   "cell_type": "markdown",
   "metadata": {},
   "source": [
    "# core\n",
    "\n",
    "> API details."
   ]
  },
  {
   "cell_type": "code",
   "execution_count": 2,
   "metadata": {},
   "outputs": [],
   "source": [
    "#export\n",
    "import json,tweepy,hmac,hashlib,traceback,shutil,time\n",
    "\n",
    "from fastcore.imports import *\n",
    "from fastcore.foundation import *\n",
    "from fastcore.utils import *\n",
    "from fastcore.script import *\n",
    "from fastcore.meta import *\n",
    "from fastcore.test import *\n",
    "from configparser import ConfigParser\n",
    "from ipaddress import ip_address,ip_network\n",
    "from http.server import ThreadingHTTPServer, BaseHTTPRequestHandler\n",
    "from textwrap import dedent"
   ]
  },
  {
   "cell_type": "markdown",
   "metadata": {},
   "source": [
    "## UnbufferedServer -"
   ]
  },
  {
   "cell_type": "code",
   "execution_count": 3,
   "metadata": {},
   "outputs": [],
   "source": [
    "#export\n",
    "class _Unbuffered(GetAttr):\n",
    "    def __init__(self, stream): self.default = stream\n",
    "    def write     (self, data): self.default.write     (data); self.default.flush()\n",
    "    def writelines(self, data): self.default.writelines(data); self.default.flush()"
   ]
  },
  {
   "cell_type": "code",
   "execution_count": 4,
   "metadata": {},
   "outputs": [],
   "source": [
    "#export\n",
    "@delegates()\n",
    "class UnbufferedServer(ThreadingHTTPServer):\n",
    "    \"A `ThreadingHTTPServer` that disables output buffering, for more convenient logging\"\n",
    "    def __init__(self, server_address, RequestHandlerClass, **kwargs):\n",
    "        super().__init__(server_address, RequestHandlerClass, **kwargs)\n",
    "        self.oldunbuf = os.getenv('PYTHONUNBUFFERED', '')\n",
    "        os.environ['PYTHONUNBUFFERED'] = '1'\n",
    "        self.oldout,self.olderr = sys.stdout,sys.stderr\n",
    "        if hasattr(sys.stdout, 'reconfigure'): #py37+\n",
    "            sys.stdout.reconfigure(line_buffering=True)\n",
    "            sys.stderr.reconfigure(line_buffering=True)\n",
    "        else:\n",
    "            sys.stdout = _Unbuffered(sys.stdout)\n",
    "            sys.stderr = _Unbuffered(sys.stderr)\n",
    "        print(f\"Listening on {self.server_address}\")\n",
    "    \n",
    "    def server_close(self): \n",
    "        time.sleep(0.3) # wait for last request to finish\n",
    "        sys.stdout,sys.stderr = self.oldout,self.olderr\n",
    "        os.environ['PYTHONUNBUFFERED'] = self.oldunbuf"
   ]
  },
  {
   "cell_type": "markdown",
   "metadata": {},
   "source": [
    "Python's `HTTPServer` (and subclasses) call methods called `do_{HTTPMETHOD}`, e.g. `do_GET`, `do_POST`, etc, in a `BaseHTTPRequestHandler` subclass that you pass in to its constructor. For instance:"
   ]
  },
  {
   "cell_type": "code",
   "execution_count": 5,
   "metadata": {},
   "outputs": [],
   "source": [
    "class _TestHandler(BaseHTTPRequestHandler):\n",
    "    def do_GET(self):\n",
    "        self.send_response(200)\n",
    "        self.end_headers()\n",
    "        self.wfile.write(b'ok')\n",
    "\n",
    "@threaded\n",
    "def _test_server():\n",
    "    with UnbufferedServer(('localhost',8000), _TestHandler) as httpd: httpd.handle_request()"
   ]
  },
  {
   "cell_type": "code",
   "execution_count": 6,
   "metadata": {
    "scrolled": false
   },
   "outputs": [
    {
     "name": "stdout",
     "output_type": "stream",
     "text": [
      "Listening on ('127.0.0.1', 8000)\n"
     ]
    },
    {
     "name": "stderr",
     "output_type": "stream",
     "text": [
      "127.0.0.1 - - [11/Oct/2020 13:58:17] \"GET / HTTP/1.1\" 200 -\n"
     ]
    }
   ],
   "source": [
    "_test_server()\n",
    "time.sleep(0.1) # wait for server to start\n",
    "test_eq(urlread(\"http://localhost:8000\"), b'ok')"
   ]
  },
  {
   "cell_type": "markdown",
   "metadata": {},
   "source": [
    "## fastwebhook server"
   ]
  },
  {
   "cell_type": "code",
   "execution_count": 7,
   "metadata": {},
   "outputs": [],
   "source": [
    "#export\n",
    "def tweet_text(payload):\n",
    "    \"Send a tweet announcing release based on `payload`\"\n",
    "    rel_json = payload['release']\n",
    "    url = rel_json['url']\n",
    "    owner,repo = re.findall(r'https://api.github.com/repos/([^/]+)/([^/]+)/', url)[0]\n",
    "    tweet_tmpl = \"New #{repo} release: v{tag_name}. {html_url}\\n\\n{body}\"\n",
    "    res = tweet_tmpl.format(repo=repo, tag_name=rel_json['tag_name'],\n",
    "                            html_url=rel_json['html_url'], body=rel_json['body'])\n",
    "    if len(res)<=280: return res\n",
    "    return res[:279] + \"…\""
   ]
  },
  {
   "cell_type": "code",
   "execution_count": 8,
   "metadata": {},
   "outputs": [],
   "source": [
    "#export\n",
    "def check_sig(content, headers, secret):\n",
    "    digest = hmac.new(secret, content, hashlib.sha1).hexdigest()\n",
    "    assert f'sha1={digest}' == headers.get('X-Hub-Signature')"
   ]
  },
  {
   "cell_type": "code",
   "execution_count": 9,
   "metadata": {},
   "outputs": [],
   "source": [
    "#export\n",
    "class _RequestHandler(BaseHTTPRequestHandler):\n",
    "    def _post(self):\n",
    "        if self.server.check_ip:\n",
    "            src_ip = ip_address(self.client_address[0])\n",
    "            assert any((src_ip in wl) for wl in self.server.whitelist)\n",
    "        self.send_response(200)\n",
    "        self.end_headers()\n",
    "        length = self.headers.get('content-length')\n",
    "        if not length: return\n",
    "        content = self.rfile.read(int(length))\n",
    "        if self.server.debug:\n",
    "            print(self.headers, content)\n",
    "            return\n",
    "        payload = json.loads(content.decode())\n",
    "        if payload.get('action',None)=='released':\n",
    "            check_sig(content, self.headers, self.server.gh_secret)\n",
    "            tweet = tweet_text(payload)\n",
    "            stat = self.server.api.update_status(tweet)\n",
    "            print(stat.id)\n",
    "        self.wfile.write(b'ok')\n",
    "\n",
    "    def do_POST(self):\n",
    "        try: self._post()\n",
    "        except Exception as e: sys.stderr.write(traceback.format_exc())\n",
    "\n",
    "    def log_message(self, fmt, *args): sys.stderr.write(fmt%args)"
   ]
  },
  {
   "cell_type": "code",
   "execution_count": 10,
   "metadata": {},
   "outputs": [],
   "source": [
    "#export\n",
    "@call_parse\n",
    "def run_server(hostname: Param(\"Host name or IP\", str)='localhost',\n",
    "               port:     Param(\"Port to listen on\", int)=8000,\n",
    "               debug:    Param(\"If True, do not trigger actions, just print\", bool_arg)=False,\n",
    "               inifile:  Param(\"Path to settings ini file\", str)='twitter.ini',\n",
    "               check_ip: Param(\"Check source IP against GitHub list\", bool_arg)=True,\n",
    "               single_request=False):\n",
    "    \"Run a GitHub webhook server that tweets about new releases\"\n",
    "    assert os.path.exists(inifile), f\"{inifile} not found\"\n",
    "    cfg = ConfigParser(interpolation=None)\n",
    "    cfg.read([inifile])\n",
    "    cfg = cfg['DEFAULT']\n",
    "    auth = tweepy.OAuthHandler(cfg['consumer_key'], cfg['consumer_secret'])\n",
    "    auth.set_access_token(cfg['access_token'], cfg['access_token_secret'])\n",
    "    with UnbufferedServer((hostname, port), _RequestHandler) as httpd:\n",
    "        httpd.gh_secret = bytes(cfg['gh_secret'], 'utf-8')\n",
    "        httpd.api = tweepy.API(auth)\n",
    "        httpd.whitelist = L(urljson('https://api.github.com/meta')['hooks']).map(ip_network)\n",
    "        httpd.check_ip,httpd.debug = check_ip,debug\n",
    "        if single_request: httpd.handle_request()\n",
    "        else: httpd.serve_forever()"
   ]
  },
  {
   "cell_type": "code",
   "execution_count": 11,
   "metadata": {},
   "outputs": [
    {
     "data": {
      "text/plain": [
       "<Thread(Thread-6, started 140112752244480)>"
      ]
     },
     "execution_count": 11,
     "metadata": {},
     "output_type": "execute_result"
    },
    {
     "name": "stdout",
     "output_type": "stream",
     "text": [
      "Listening on ('127.0.0.1', 8000)\n"
     ]
    }
   ],
   "source": [
    "time.sleep(0.5) # wait for previous server to stop\n",
    "threaded(partial(run_server, check_ip=False, debug=True, single_request=True))()"
   ]
  },
  {
   "cell_type": "code",
   "execution_count": 12,
   "metadata": {
    "scrolled": false
   },
   "outputs": [
    {
     "name": "stderr",
     "output_type": "stream",
     "text": [
      "\"POST / HTTP/1.1\" 200 -"
     ]
    },
    {
     "name": "stdout",
     "output_type": "stream",
     "text": [
      "Accept-Encoding: identity\n",
      "Content-Type: application/x-www-form-urlencoded\n",
      "Content-Length: 6\n",
      "Host: localhost:8000\n",
      "User-Agent: Python-urllib/3.8\n",
      "Connection: close\n",
      "\n",
      " b'spam=1'\n"
     ]
    },
    {
     "data": {
      "text/plain": [
       "b''"
      ]
     },
     "execution_count": 12,
     "metadata": {},
     "output_type": "execute_result"
    }
   ],
   "source": [
    "time.sleep(0.1)\n",
    "urlread(\"http://localhost:8000\", spam=1)"
   ]
  },
  {
   "cell_type": "markdown",
   "metadata": {},
   "source": [
    "## Installer"
   ]
  },
  {
   "cell_type": "code",
   "execution_count": 14,
   "metadata": {},
   "outputs": [],
   "source": [
    "#export\n",
    "@call_parse\n",
    "def fastwebhook_install_service(hostname: Param(\"Host name or IP\", str)='0.0.0.0',\n",
    "                    port:     Param(\"Port to listen on\", int)=8000,\n",
    "                    inifile:  Param(\"Path to settings ini file\", str)='twitter.ini',\n",
    "                    check_ip: Param(\"Check source IP against GitHub list\", bool_arg)=True,\n",
    "                    service_path: Param(\"Directory to write service file to\", str)=\"/etc/systemd/system/\"):\n",
    "    \"Install fastwebhook as a service\"\n",
    "    script_loc = shutil.which('fastwebhook')\n",
    "    inifile = Path(inifile).absolute()\n",
    "    _unitfile = dedent(f\"\"\"\n",
    "    [Unit]\n",
    "    Description=fastwebhook\n",
    "    Wants=network-online.target\n",
    "    After=network-online.target\n",
    "\n",
    "    [Service]\n",
    "    ExecStart={script_loc} --inifile {inifile} --check_ip {check_ip} --hostname {hostname} --port {port}\n",
    "    Restart=always\n",
    "\n",
    "    [Install]\n",
    "    WantedBy=multi-user.target\"\"\")\n",
    "    Path(\"fastwebhook.service\").write_text(_unitfile)\n",
    "    run(f\"sudo cp fastwebhook.service {service_path}\")"
   ]
  },
  {
   "cell_type": "markdown",
   "metadata": {},
   "source": [
    "This `fastcore.script` CLI installs `fastwebhook` as a `systemd` service. Run `fastwebhook_install_service --help` in your terminal for options."
   ]
  },
  {
   "cell_type": "markdown",
   "metadata": {},
   "source": [
    "## Export -"
   ]
  },
  {
   "cell_type": "code",
   "execution_count": 15,
   "metadata": {},
   "outputs": [
    {
     "name": "stdout",
     "output_type": "stream",
     "text": [
      "Converted 00_core.ipynb.\n",
      "Converted index.ipynb.\n"
     ]
    }
   ],
   "source": [
    "#hide\n",
    "from nbdev.export import notebook2script\n",
    "notebook2script()"
   ]
  },
  {
   "cell_type": "code",
   "execution_count": null,
   "metadata": {},
   "outputs": [],
   "source": []
  }
 ],
 "metadata": {
  "kernelspec": {
   "display_name": "Python 3",
   "language": "python",
   "name": "python3"
  },
  "language_info": {
   "codemirror_mode": {
    "name": "ipython",
    "version": 3
   },
   "file_extension": ".py",
   "mimetype": "text/x-python",
   "name": "python",
   "nbconvert_exporter": "python",
   "pygments_lexer": "ipython3",
   "version": "3.8.3"
  }
 },
 "nbformat": 4,
 "nbformat_minor": 2
}
